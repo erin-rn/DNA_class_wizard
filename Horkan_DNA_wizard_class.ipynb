{
 "cells": [
  {
   "cell_type": "markdown",
   "id": "c33f7d61-3af1-45c4-b733-ab23210f5138",
   "metadata": {},
   "source": [
    "# A. Make a class called seq \n",
    "\n",
    "## This class should accept the following attributes:\n",
    "### name, organism, sequence, and type. When making an isntance of seq, the input for name will be a string (e.g. 'RAS_G12D') the input for organism will be a string (e.x. 'human'), the input for sequence will be a DNA, RNA, or protein sequence (e.g. 'ATCGAAATC') and the type will be either 'DNA', 'RNA', or 'Protein'\n",
    "\n",
    "## This class should have three methods: \n",
    "### 1. info -this should print the name, type, organism, and sequence of the instance\n",
    "### 2. length -this should count the length of the sequence string\n",
    "### 3. fasta_out -this should write the name, organism, type, and sequence as a fasta file. "
   ]
  },
  {
   "cell_type": "code",
   "execution_count": 2,
   "id": "7f235639-4e6e-45ac-83bd-c9d22dd38de0",
   "metadata": {},
   "outputs": [],
   "source": [
    "# call the class seq\n",
    "class seq:\n",
    "    def __init__(self, name, organism, sequence, type):\n",
    "# Call instance attributes\n",
    "        self.name = name\n",
    "        self.organism = organism\n",
    "        self.sequence = sequence\n",
    "        self.type = type\n",
    "# define the info function \n",
    "    def info(self):\n",
    "        print(self.name + \", \" + self.organism +\", \" + self.type + \", \" + self.sequence)\n",
    "        #print(self.type)\n",
    "        #print(self.organism)\n",
    "        #print(self.sequence)\n",
    "# define the length function   \n",
    "    def length(self):\n",
    "         print(len(self.sequence))\n",
    "    #define the fasta_out function.\n",
    "    # write to a file using the sequence name as part of the file name\n",
    "    # I have written most of the code for the fasta_out function,\n",
    "    # but you need to add something. What is missing?\n",
    "    # this url may be helpful https://www.w3schools.com/python/python_file_write.asp \n",
    "    def fasta_out(self):\n",
    "        f = open(\"{}.fa\".format(self.name), \"w\")\n",
    "        f.write(\">\" + self.name + \"_\" + self.organism + \"_\" + self.type + \"\\n\" + self.sequence)\n",
    "        f.close()     "
   ]
  },
  {
   "cell_type": "markdown",
   "id": "587bd257-f738-49b0-a2d6-0d80cbe50c16",
   "metadata": {},
   "source": [
    "# B. Test your seq class code using the following instance of seq. \n",
    "## The info function should print \"test_DNA, Human, DNA, AGGCTAT\"\n",
    "## the length function should print \"7\". \n",
    "## Go open the fasta file that is made by fasta out. It should be named test_DNA.fa and the contents should look like this:\n",
    "## >test_DNA_Human_DNA\n",
    "## AGGCTAT"
   ]
  },
  {
   "cell_type": "code",
   "execution_count": 3,
   "id": "93b3d472-6f84-418d-9691-22e17b88efb2",
   "metadata": {},
   "outputs": [
    {
     "name": "stdout",
     "output_type": "stream",
     "text": [
      "test_DNA, Human, DNA, AGGCTAT\n",
      "7\n"
     ]
    }
   ],
   "source": [
    "short_seq_test = seq(name = \"test_DNA\", organism = 'Human',\n",
    "                                  sequence = 'AGGCTAT', type = 'DNA')\n",
    "short_seq_test.info()\n",
    "short_seq_test.length()\n",
    "short_seq_test.fasta_out()"
   ]
  },
  {
   "cell_type": "markdown",
   "id": "5bda4d8b-2034-4877-8e24-c92bcbc9e06c",
   "metadata": {},
   "source": [
    "# C. Using super(), make a new child class of seq called protein\n",
    "## This should have a new attribute called size (For instances of protein, size values will be in kDa, like '52')\n",
    "## Overwrite the parent class seq function fasta_out to include the protein size in the first line of the fasta file\n"
   ]
  },
  {
   "cell_type": "code",
   "execution_count": 4,
   "id": "7034e712-0883-4520-b73e-cbd940e7c5b1",
   "metadata": {},
   "outputs": [],
   "source": [
    "# Write the new protein child class here\n",
    "class protein(seq):\n",
    "    def __init__(self, name, organism, sequence, type, size):\n",
    "        self.size = size\n",
    "        super().__init__(name, organism, sequence, type)\n",
    "   \n",
    "    def fasta_out(self):\n",
    "        f = open(\"{}.fa\".format(self.name), \"w\")\n",
    "        f.write(\">\" + self.name + \"_\" + self.organism + \"_\" + self.type + \"_\" + self.size + \"\\n\" + self.sequence)\n",
    "        f.close() \n",
    "    \n",
    "    "
   ]
  },
  {
   "cell_type": "markdown",
   "id": "935be508-378b-44de-81f7-95a75f420e60",
   "metadata": {},
   "source": [
    "# D. Test the modfied fasta_out function on the following instance of protein:\n",
    "\n",
    "## The fasta file should be named NLS.fa and the contents should be:\n",
    "## >NLS_Human_protein_38\n",
    "## CGGPKKKRLVG"
   ]
  },
  {
   "cell_type": "code",
   "execution_count": 5,
   "id": "cb5aa932-23b1-4b05-bf94-d9a14a0abcab",
   "metadata": {},
   "outputs": [],
   "source": [
    "nls_peptide = protein(name = 'NLS', sequence= 'CGGPKKKRLVG', \n",
    "                      organism = 'Human', type = 'protein', size = '38')\n",
    "\n",
    "nls_peptide.fasta_out()\n"
   ]
  },
  {
   "cell_type": "markdown",
   "id": "39560a37-7545-426a-9d91-60b1628e3c12",
   "metadata": {},
   "source": [
    "# Questions (write answers here, 1-2 sentences per question).\n",
    "## 1. Why won't rewriting the fasta_out function for protein affect other child classes that inherit from seq? \n",
    "\n",
    "\n",
    "The newly defined fasta_out function is under class protein so it will only apply to class protein. For it to apply to other child classes of seq it would need to be under seq. \n",
    "\n",
    "\n",
    "## 2. If we made a child class of protein, which version of the fasta_out method would the new child class have (protein or seq's version)?\n",
    "\n",
    "\n",
    "The protein version\n"
   ]
  },
  {
   "cell_type": "markdown",
   "id": "dec8093b-43f7-4e8e-98f2-ac452ad0a756",
   "metadata": {},
   "source": [
    "# E. Using super(), make a child class of seq called nucleotide\n",
    "## Make a new method called gc_content that calculates the percent of letters that are G or C and then prints the gc content percentage\n",
    "\n",
    "## for the gc_content method, there are multiple ways to do it, but you may find this page helpful https://www.geeksforgeeks.org/python-count-occurrences-of-a-character-in-string/ "
   ]
  },
  {
   "cell_type": "code",
   "execution_count": 6,
   "id": "dd5a78f5-a7e8-4cf9-9076-f7ee5b66b545",
   "metadata": {},
   "outputs": [],
   "source": [
    "# Write the new nucleotide class here\n",
    "class nucleotide(seq):\n",
    "    def __init__(self, name, organism, sequence, type):\n",
    "        super().__init__(name, organism, sequence, type)\n",
    "   \n",
    "    def gc_content(self):\n",
    "        countdenom = 0\n",
    "        countnum = 0\n",
    "        for i in self.sequence:\n",
    "            countdenom = countdenom + 1\n",
    "            if i == 'G' or i == 'C':\n",
    "                countnum = countnum + 1\n",
    "        print((countnum / countdenom) * 100)\n",
    "    \n"
   ]
  },
  {
   "cell_type": "markdown",
   "id": "acce4621-75c5-414f-b435-8debf2f4dabb",
   "metadata": {},
   "source": [
    "# F. Test the gc_content method on the following instance of nucleotide. You should get 50.0\n",
    "# Also test the info method- how do these results differ from the modified info method for the protein subclass?"
   ]
  },
  {
   "cell_type": "code",
   "execution_count": 8,
   "id": "87a5f854-6746-4f45-ba10-c4f712aeb78d",
   "metadata": {},
   "outputs": [
    {
     "name": "stdout",
     "output_type": "stream",
     "text": [
      "50.0\n",
      "test_seq, Human, DNA, ATCTCGGTCT\n"
     ]
    }
   ],
   "source": [
    "nucleotide_test_GC = nucleotide(name = 'test_seq', sequence= 'ATCTCGGTCT', \n",
    "                      organism = 'Human', type = 'DNA')\n",
    "\n",
    "nucleotide_test_GC.gc_content()\n",
    "nucleotide_test_GC.info()\n",
    "#info for this subclass does not include size, just the attributes defined for seq"
   ]
  },
  {
   "cell_type": "markdown",
   "id": "c0348be9-5abc-460d-a27f-11c339d0b335",
   "metadata": {},
   "source": [
    "# G. Using super(),make \"Grandchild classes\" DNA and RNA, which will be child classes of nucleotide. So in this analogy they would be like \"grandchildren\" of sequence class. Look at the homework instructions pdf for a schematic. "
   ]
  },
  {
   "cell_type": "markdown",
   "id": "82de4b8d-7302-4b63-b4a4-1de33dfb86bd",
   "metadata": {},
   "source": [
    "## Question: before you make the classes, think: which methods from sequence and nucleotide will the new child classes DNA and RNA inherit? \n",
    "### Write the answer here: DNA and RNA child classes will inherit the attributes name, organism, sequence, and type from grandparent class sequence. They will inherit the methods info, length, and the original (non protein) version of fasta_out from seq. They will inherit gc_content from parent class nucleotide\n"
   ]
  },
  {
   "cell_type": "markdown",
   "id": "d9293bbc-8cf5-415d-9dc4-44baea3e6e2c",
   "metadata": {},
   "source": [
    "## G.1 For the DNA class, add a method called transcribe to transcribe the DNA to RNA and print the transcribed sequence (aka replace the Ts in the DNA sequence with Us)"
   ]
  },
  {
   "cell_type": "code",
   "execution_count": 24,
   "id": "36b67dd9-5907-4833-bea2-8b5b01336595",
   "metadata": {},
   "outputs": [],
   "source": [
    "# Write the DNA class here\n",
    "class DNA(nucleotide):\n",
    "    def __init__(self, name, organism, sequence, type):\n",
    "        super().__init__(name, organism, sequence, type)\n",
    "        \n",
    "    def transcribe(self):\n",
    "        self.sequence = self.sequence.replace(\"T\", \"U\")\n",
    "    \n",
    "    # For the transcribe method\n",
    "    # This site may be helpful https://www.geeksforgeeks.org/python-string-replace/\n"
   ]
  },
  {
   "cell_type": "markdown",
   "id": "dc6b34bd-4327-437b-91a7-5ef0d7217b61",
   "metadata": {},
   "source": [
    "## G.2 Test the DNA method transcribe, and the other methods info and gc_content on the following instance of DNA:"
   ]
  },
  {
   "cell_type": "code",
   "execution_count": 25,
   "id": "0053dc2c-c092-4134-996e-31bbadbb382c",
   "metadata": {},
   "outputs": [
    {
     "name": "stdout",
     "output_type": "stream",
     "text": [
      "test_seq_H, Human, DNA, AUCUCGGUCU\n",
      "50.0\n"
     ]
    }
   ],
   "source": [
    "DNA_test_H = DNA(name = 'test_seq_H', sequence= 'ATCTCGGTCT', \n",
    "                     organism = 'Human', type = 'DNA')\n",
    "DNA_test_H.transcribe()\n",
    "DNA_test_H.info()\n",
    "DNA_test_H.gc_content()"
   ]
  },
  {
   "cell_type": "markdown",
   "id": "ba6c55a6-f9a7-4834-9fe0-0c130f6c26fd",
   "metadata": {},
   "source": [
    "## G.3 For the RNA class, add a method called start that will print the index of the start codon (AUG) in a RNA sequence "
   ]
  },
  {
   "cell_type": "code",
   "execution_count": 26,
   "id": "39afc11f-1ce0-4d65-97a5-ab7da1b10ac0",
   "metadata": {},
   "outputs": [],
   "source": [
    "# Write the RNA class here\n",
    "class RNA(nucleotide):\n",
    "    def __init__(self, name, organism, sequence, type):\n",
    "        super().__init__(name, organism, sequence, type)\n",
    "    \n",
    "    def start(self):\n",
    "        print(self.sequence.find('AUG'))\n",
    "        \n",
    "    # For the start method\n",
    "    # This site may be https://www.geeksforgeeks.org/python-string-find/"
   ]
  },
  {
   "cell_type": "markdown",
   "id": "8d688da2-c345-4890-97f4-e1cc54c52d53",
   "metadata": {},
   "source": [
    "## G.4 Test the method start and gc_content on the following instance of RNA:\n",
    "### For the results from start, you should get 3, and for gc_content you should get 53.57...."
   ]
  },
  {
   "cell_type": "code",
   "execution_count": 27,
   "id": "7f714dfe-1a54-47b2-9afa-2bc630e9e6f6",
   "metadata": {
    "scrolled": true
   },
   "outputs": [
    {
     "name": "stdout",
     "output_type": "stream",
     "text": [
      "3\n",
      "53.57142857142857\n"
     ]
    }
   ],
   "source": [
    "RNA_test_H = RNA(name = 'test_seq_H', sequence= 'CCGAUGCGCGCAGCUACGUAGCAAAAAA', \n",
    "                      organism = 'Human', type = 'RNA')\n",
    "RNA_test_H.start()\n",
    "RNA_test_H.gc_content()"
   ]
  },
  {
   "cell_type": "code",
   "execution_count": null,
   "id": "b45a0167-a37e-4815-8720-a60711326da7",
   "metadata": {},
   "outputs": [],
   "source": []
  },
  {
   "cell_type": "code",
   "execution_count": null,
   "id": "ed2ae746-60d5-443f-97a0-91a7b253483b",
   "metadata": {},
   "outputs": [],
   "source": []
  },
  {
   "cell_type": "code",
   "execution_count": null,
   "id": "e503c302-17d3-4ac3-af42-9ed83f61f522",
   "metadata": {},
   "outputs": [],
   "source": []
  },
  {
   "cell_type": "code",
   "execution_count": null,
   "id": "8c54c1c8-8f9c-45f1-ae49-61ca5374eee8",
   "metadata": {},
   "outputs": [],
   "source": []
  },
  {
   "cell_type": "code",
   "execution_count": null,
   "id": "bfbbe1f4-2fce-4214-ad53-7e3c2945d593",
   "metadata": {},
   "outputs": [],
   "source": []
  },
  {
   "cell_type": "code",
   "execution_count": null,
   "id": "973600f1-4c93-4ad0-96b6-2a95c6ffb07d",
   "metadata": {},
   "outputs": [],
   "source": []
  },
  {
   "cell_type": "code",
   "execution_count": null,
   "id": "9a759579-9174-4cc0-b4a3-e2722db52d8a",
   "metadata": {},
   "outputs": [],
   "source": []
  }
 ],
 "metadata": {
  "kernelspec": {
   "display_name": "Python 3 (ipykernel)",
   "language": "python",
   "name": "python3"
  },
  "language_info": {
   "codemirror_mode": {
    "name": "ipython",
    "version": 3
   },
   "file_extension": ".py",
   "mimetype": "text/x-python",
   "name": "python",
   "nbconvert_exporter": "python",
   "pygments_lexer": "ipython3",
   "version": "3.11.5"
  }
 },
 "nbformat": 4,
 "nbformat_minor": 5
}
